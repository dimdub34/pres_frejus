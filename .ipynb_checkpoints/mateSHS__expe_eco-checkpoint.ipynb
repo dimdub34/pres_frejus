{
 "cells": [
  {
   "cell_type": "code",
   "execution_count": 4,
   "metadata": {
    "collapsed": true,
    "slideshow": {
     "slide_type": "skip"
    }
   },
   "outputs": [],
   "source": [
    "import sqlite3\n",
    "import pandas as pd\n",
    "from IPython.display import IFrame\n",
    "import sys\n",
    "sys.path.append(\"/home/dimitri/Documents/travail/programmes/le2m-v2.1/le2m/extractor\")\n",
    "import extractor"
   ]
  },
  {
   "cell_type": "markdown",
   "metadata": {
    "slideshow": {
     "slide_type": "slide"
    }
   },
   "source": [
    "<img src=\"mateshs.gif\" align=\"right\"/>\n",
    "<br /><br/><br /><br/>\n",
    "# L'économie expérimentale  \n",
    "<br /><br/>\n",
    "_Dimitri DUBOIS_  \n",
    "Laboratoire Montpelliérain d'Economie Théorique et Appliquée\n",
    "<img src=\"logo_lameta.png\" />\n"
   ]
  },
  {
   "cell_type": "markdown",
   "metadata": {
    "slideshow": {
     "slide_type": "subslide"
    }
   },
   "source": [
    "<img src=\"expe.png\" style=\"float: right; width:350px;\" />\n",
    "* pendant longtemps l'économie a été considérée comme une science empirique et théorique\n",
    "* l'économiste devait se contenter des observations\n",
    "* aujourd'hui l'économie est une science expérimentale"
   ]
  },
  {
   "cell_type": "markdown",
   "metadata": {
    "slideshow": {
     "slide_type": "slide"
    }
   },
   "source": [
    "## Histoire"
   ]
  },
  {
   "cell_type": "markdown",
   "metadata": {},
   "source": [
    "* premières expériences après la 2<sup>nde</sup> guerre mondiale\n",
    "* contexte favorable\n",
    "    * la modélisation, les statistiques et les mathématiques commencent à jouer un rôle moteur comme instrument d'analyse\n",
    "    * ouvrage majeur de Von Neumann et Morgernstern (1944): Theory of games and economic behavior"
   ]
  },
  {
   "cell_type": "markdown",
   "metadata": {
    "slideshow": {
     "slide_type": "subslide"
    }
   },
   "source": [
    "Trois catégories d'expérience\n",
    "* expériences de marché pour tester l'équilibre concurrentiel (Chamberlin 1948)\n",
    "* expériences de choix individuel portant sur des décisions risquées pour tester le modèle d'utilité espérée (Mosteller & Nogee 1951)\n",
    "* expériences sur les décisions en situation d'interaction stratégique pour tester le concept d'équilibre non coopératif de Nash (dilemme du prisonnier, Flood & Dresher 1952) "
   ]
  },
  {
   "cell_type": "markdown",
   "metadata": {
    "slideshow": {
     "slide_type": "subslide"
    }
   },
   "source": [
    "* travail important de Vernon Smith pour rendre la méthode scientifique et établir les règles à suivre pour construire et réaliser un expérience.  \n",
    "<br />\n",
    "* véritable essor à partir des années 80\n",
    "* informatisation des expériences a beaucoup contribué au développement de la méthode"
   ]
  },
  {
   "cell_type": "markdown",
   "metadata": {
    "slideshow": {
     "slide_type": "subslide"
    }
   },
   "source": [
    "<img src=\"kahneman_smith.jpg\" style=\"height:200px;float:right;\" alt=\"Daniel Kahneman et Vernon Smith\" />\n",
    "* deux prix Nobel en 2002: Daniel Kahneman et Vernon Smith  \n",
    "<br />\n",
    "* aujourd'hui l'expérimentation fait partie intégrante de la recherche en économie"
   ]
  },
  {
   "cell_type": "markdown",
   "metadata": {
    "slideshow": {
     "slide_type": "subslide"
    }
   },
   "source": [
    "## Principe"
   ]
  },
  {
   "cell_type": "markdown",
   "metadata": {},
   "source": [
    "* reconstituer en laboratoire une situation économique réelle de manière stylisée et simplifiée afin d'observer des comportements ou des phénomènes économiques  \n",
    "<br />\n",
    "* la reconstitution se fait dans un environnement contrôlé et paramétré par l'expérimentateur\n",
    "* le chercheur contrôle à la fois l'environnement et les règles institutionnelles, il peut donc étudier les réactions comportementales à des changements qu'il génère lui-même dans l'environnement ou les institutions"
   ]
  },
  {
   "cell_type": "markdown",
   "metadata": {
    "slideshow": {
     "slide_type": "slide"
    }
   },
   "source": [
    "## Objectifs"
   ]
  },
  {
   "cell_type": "markdown",
   "metadata": {},
   "source": [
    "* tester une théorie\n",
    "* discriminer entre plusieurs théories concurrentes\n",
    "* déterminer les causes du rejet/échec d'une théorie\n",
    "* comparer différents environnements ou institutions et établir la robustesse de la théorie à ces changements\n",
    "* établir des régularités empiriques qui pourront servir de base à de nouvelles théories\n",
    "* produire des connaissances nouvelles, lorsque la théorie est incomplète ou inexistante, à partir de données exploratoires"
   ]
  },
  {
   "cell_type": "markdown",
   "metadata": {
    "slideshow": {
     "slide_type": "subslide"
    }
   },
   "source": [
    "* évaluer les effets de différentes politiques publiques ou stratégies industrielles sans avoir à les mettre en place effectivement\n",
    "* enseigner des notions économiques complexes ou abstraites pour un étudiant"
   ]
  },
  {
   "cell_type": "markdown",
   "metadata": {
    "slideshow": {
     "slide_type": "slide"
    }
   },
   "source": [
    "## Construction d'une expérience"
   ]
  },
  {
   "cell_type": "markdown",
   "metadata": {},
   "source": [
    "A partir d'une question de recherche\n",
    "* élaboration du protocole: traitements à réaliser, nombre de données indépendantes à collecter, jeu, interactions, informations, taille des groupes, fonctions de gains ...\n",
    "* écriture des instructions pour les sujets\n",
    "* développement du programme informatique\n",
    "* organisation et réalisation des sessions\n",
    "* analyse des données collectées: statistiques descriptives, tests paramétriques/non paramétriques, économétrie"
   ]
  },
  {
   "cell_type": "markdown",
   "metadata": {
    "slideshow": {
     "slide_type": "slide"
    }
   },
   "source": [
    "## Règles"
   ]
  },
  {
   "cell_type": "markdown",
   "metadata": {},
   "source": [
    "* pas de mensonge\n",
    "* rémunération monétaire liée à la performance et aux choix"
   ]
  },
  {
   "cell_type": "markdown",
   "metadata": {
    "slideshow": {
     "slide_type": "slide"
    }
   },
   "source": [
    "## Infrastructure"
   ]
  },
  {
   "cell_type": "markdown",
   "metadata": {},
   "source": [
    "<img src=\"lab__xiamen.jpg\" style=\"float: right; width:400px;\" />\n",
    "* Une salle informatique avec des ordinateurs en réseaux\n",
    "* Les postes sont isolés les uns des autres par des séparations  "
   ]
  },
  {
   "cell_type": "markdown",
   "metadata": {
    "slideshow": {
     "slide_type": "subslide"
    }
   },
   "source": [
    "<img src=\"plateformes_france.png\" style=\"float:right;\" />\n",
    "__Les plateformes en France__\n",
    "* Lille\n",
    "* Rennes\n",
    "* Paris\n",
    "* Strasbourg\n",
    "* Dijon\n",
    "* Grenoble\n",
    "* Lyon\n",
    "* Toulouse\n",
    "* Montpellier\n",
    "* Nice"
   ]
  },
  {
   "cell_type": "markdown",
   "metadata": {
    "slideshow": {
     "slide_type": "subslide"
    }
   },
   "source": [
    "__Les plateformes dans le monde__  \n",
    "http://leem.lameta.univ-montp1.fr/index.php?page=labos&lang=fr\n",
    "<img src=\"labos_monde.png\" style=\"float:center; height:400px;\" />"
   ]
  },
  {
   "cell_type": "markdown",
   "metadata": {
    "slideshow": {
     "slide_type": "slide"
    }
   },
   "source": [
    "<img src=\"pgg.png\" style=\"float: right; height: 300px;\" />\n",
    "## Exemple d'expérience: le jeu de bien public"
   ]
  },
  {
   "cell_type": "markdown",
   "metadata": {
    "slideshow": {
     "slide_type": "-"
    }
   },
   "source": [
    "- fait partie de la catégorie des jeux dits de dilemmes sociaux, cad des jeux dans lequels il existe un conflit entre l'intérêt individuel et l'intérêt collectif\n",
    "- permet d'évaluer le niveau de coopération au sein d'un groupe"
   ]
  },
  {
   "cell_type": "markdown",
   "metadata": {
    "slideshow": {
     "slide_type": "subslide"
    }
   },
   "source": [
    "__Le jeu__\n",
    "* groupes fixes de 4 joueurs\n",
    "* chacun dispose de 20 jetons de dotation à repartir entièrement entre deux comptes\n",
    "    * compte individuel: chaque jeton placé sur ce compte rapporte 1 ecu (ecu = experimental currency unit)\n",
    "    * compte collectif, à commun tout le groupe: chaque jeton placé sur ce compte rapporte 0.50 ecu à chaque membre du groupe\n",
    "* jeu répété 10 périodes\n",
    "* les sujets sont rémunérés par rapport à leur gain cumulé sur l'ensemble des périodes"
   ]
  },
  {
   "cell_type": "markdown",
   "metadata": {
    "slideshow": {
     "slide_type": "subslide"
    }
   },
   "source": [
    "* deux étapes:\n",
    "    1. décision de répartition des jetons\n",
    "    2. récapitulatif: décision de répartition, nombre de jetons total sur le compte collectif, gain de la période, gain cumulé depuis la première période"
   ]
  },
  {
   "cell_type": "markdown",
   "metadata": {
    "slideshow": {
     "slide_type": "subslide"
    }
   },
   "source": [
    "__[Instructions](instructions.pdf)__"
   ]
  },
  {
   "cell_type": "markdown",
   "metadata": {
    "slideshow": {
     "slide_type": "subslide"
    }
   },
   "source": [
    "__Ecran de décision__\n",
    "<img src=\"pgg_decision.png\" />"
   ]
  },
  {
   "cell_type": "markdown",
   "metadata": {
    "slideshow": {
     "slide_type": "subslide"
    }
   },
   "source": [
    "__Ecran récapitulatif__ \n",
    "<img src=\"pgg_recap.png\" />"
   ]
  },
  {
   "cell_type": "markdown",
   "metadata": {
    "slideshow": {
     "slide_type": "subslide"
    }
   },
   "source": [
    "__Historique__\n",
    "<img src=\"pgg_histo.png\"/>"
   ]
  },
  {
   "cell_type": "markdown",
   "metadata": {
    "slideshow": {
     "slide_type": "subslide"
    }
   },
   "source": [
    "- **Equilibre théorique du jeu est pour chaque joueur de placer ses 20 jetons sur son compte individuel** puisque individuellement un jeton placé sur ce compte rapporte 1 ecu, contre 0.50 ecu sur le compte collectif.  \n",
    "  \n",
    "  \n",
    "- **L'optimum social est atteint lorsque tous les joueurs placent tous leurs jetons sur le compte collectif**\n",
    "  \n",
    "    - Si chaque joueur place ses 20 jetons sur son compte individuel, chacun gagne 20 x 1 = __20 ecus__\n",
    "    - Si chaque joueur place ses 20 jetons sur le compte collectif, chacun gagne 20 x 4 x 0.5 = __40 ecus__"
   ]
  },
  {
   "cell_type": "markdown",
   "metadata": {
    "slideshow": {
     "slide_type": "subslide"
    }
   },
   "source": [
    "- **La tentation est de profiter de la contribution des autres (free riding)**: quel que soit le nombre de jetons placés par les autres sur le compte collectif il y a toujours un intérêt individuel à placer ses jetons sur son compte individuel plutôt que sur le compte collectif."
   ]
  },
  {
   "cell_type": "markdown",
   "metadata": {
    "slideshow": {
     "slide_type": "subslide"
    }
   },
   "source": [
    "#### Régularités observées\n",
    "- en moyenne les individus ne jouent pas l'équilibre, ils placent plus de jetons sur le compte collectif que ne le prédit la théorie  \n",
    "<br />\n",
    "- les individus ne jouent pas non plus l'optimum social  \n",
    "<br />\n",
    "- la coopération diminue au cours du temps"
   ]
  },
  {
   "cell_type": "markdown",
   "metadata": {
    "slideshow": {
     "slide_type": "subslide"
    }
   },
   "source": [
    "__Evolution de la contribution__  \n",
    "<img src=\"pgg_graph.png\" />\n",
    "_Données recueillies au LEEM entre mars et mai 2016 - Moyenne de 30 groupes de 4 joueurs_ "
   ]
  },
  {
   "cell_type": "markdown",
   "metadata": {
    "slideshow": {
     "slide_type": "subslide"
    }
   },
   "source": [
    "Autre régularité: il existe 4 grands types de contributeurs\n",
    "* les \"free rider\" ou \"passagers clandestins\": ne contribuent jamais au bien public\n",
    "* les \"coopérateurs inconditionnels\": placent toujours leurs 20 jetons sur le compte collectif\n",
    "* les \"coopérateurs conditionnels\": qui adaptent leur contribution à la contribution des autres\n",
    "* les \"triangulaires\": contribuent de manière conditionnelle jusqu'à un certain montant puis free ride au delà\n",
    "\n",
    "La majorité des individus sont des contributeurs conditionnels imparfaits: ils contribuent en fonction de la contribution des autres, mais toujours un peu moins, ce qui explique la décroissance au cours du temps"
   ]
  },
  {
   "cell_type": "markdown",
   "metadata": {
    "slideshow": {
     "slide_type": "subslide"
    }
   },
   "source": [
    "__Les données__"
   ]
  },
  {
   "cell_type": "code",
   "execution_count": 5,
   "metadata": {
    "collapsed": false,
    "slideshow": {
     "slide_type": "skip"
    }
   },
   "outputs": [
    {
     "data": {
      "text/plain": [
       "Index([u'session', u'joueur', u'id', u'partie_partie_id', u'PGGS_sequence',\n",
       "       u'PGGS_period', u'PGGS_treatment', u'PGGS_group', u'PGGS_sinistred',\n",
       "       u'PGGS_vote', u'PGGS_voteforgroup', u'PGGS_votemajority',\n",
       "       u'PGGS_indivaccount', u'PGGS_groupaccount', u'PGGS_groupaccountsum',\n",
       "       u'PGGS_groupaccountshared', u'PGGS_decisiontime',\n",
       "       u'PGGS_indivaccountpayoff', u'PGGS_groupaccountpayoff',\n",
       "       u'PGGS_groupaccountsharedpayoff', u'PGGS_periodpayoff',\n",
       "       u'PGGS_cumulativepayoff', u'PGGS_politics', u'PGGS_risk',\n",
       "       u'PGGS_inequality'],\n",
       "      dtype='object')"
      ]
     },
     "execution_count": 5,
     "metadata": {},
     "output_type": "execute_result"
    }
   ],
   "source": [
    "base = sqlite3.connect(\"data.sqlite\")\n",
    "extractor.get_parts(base)\n",
    "data = extractor.get_partdata(base, \"partie_PublicGoodGameSolidarity_repetitions\")\n",
    "data = data.loc[data.PGGS_sequence==1,]\n",
    "data.describe()\n",
    "data.columns"
   ]
  },
  {
   "cell_type": "code",
   "execution_count": 7,
   "metadata": {
    "collapsed": false,
    "slideshow": {
     "slide_type": "-"
    }
   },
   "outputs": [
    {
     "data": {
      "text/html": [
       "<div>\n",
       "<table border=\"1\" class=\"dataframe\">\n",
       "  <thead>\n",
       "    <tr style=\"text-align: right;\">\n",
       "      <th></th>\n",
       "      <th>session</th>\n",
       "      <th>joueur</th>\n",
       "      <th>PGGS_period</th>\n",
       "      <th>PGGS_indivaccount</th>\n",
       "      <th>PGGS_groupaccount</th>\n",
       "      <th>PGGS_groupaccountsum</th>\n",
       "      <th>PGGS_indivaccountpayoff</th>\n",
       "      <th>PGGS_groupaccountpayoff</th>\n",
       "      <th>PGGS_periodpayoff</th>\n",
       "      <th>PGGS_cumulativepayoff</th>\n",
       "    </tr>\n",
       "  </thead>\n",
       "  <tbody>\n",
       "    <tr>\n",
       "      <th>0</th>\n",
       "      <td>201604190947</td>\n",
       "      <td>201604190947_j_4</td>\n",
       "      <td>1</td>\n",
       "      <td>13</td>\n",
       "      <td>7</td>\n",
       "      <td>43</td>\n",
       "      <td>13</td>\n",
       "      <td>21.5</td>\n",
       "      <td>34.5</td>\n",
       "      <td>34.5</td>\n",
       "    </tr>\n",
       "    <tr>\n",
       "      <th>1</th>\n",
       "      <td>201604190947</td>\n",
       "      <td>201604190947_j_4</td>\n",
       "      <td>2</td>\n",
       "      <td>12</td>\n",
       "      <td>8</td>\n",
       "      <td>52</td>\n",
       "      <td>12</td>\n",
       "      <td>26.0</td>\n",
       "      <td>38.0</td>\n",
       "      <td>72.5</td>\n",
       "    </tr>\n",
       "    <tr>\n",
       "      <th>2</th>\n",
       "      <td>201604190947</td>\n",
       "      <td>201604190947_j_4</td>\n",
       "      <td>3</td>\n",
       "      <td>10</td>\n",
       "      <td>10</td>\n",
       "      <td>58</td>\n",
       "      <td>10</td>\n",
       "      <td>29.0</td>\n",
       "      <td>39.0</td>\n",
       "      <td>111.5</td>\n",
       "    </tr>\n",
       "    <tr>\n",
       "      <th>3</th>\n",
       "      <td>201604190947</td>\n",
       "      <td>201604190947_j_4</td>\n",
       "      <td>4</td>\n",
       "      <td>9</td>\n",
       "      <td>11</td>\n",
       "      <td>61</td>\n",
       "      <td>9</td>\n",
       "      <td>30.5</td>\n",
       "      <td>39.5</td>\n",
       "      <td>151.0</td>\n",
       "    </tr>\n",
       "    <tr>\n",
       "      <th>4</th>\n",
       "      <td>201604190947</td>\n",
       "      <td>201604190947_j_4</td>\n",
       "      <td>5</td>\n",
       "      <td>8</td>\n",
       "      <td>12</td>\n",
       "      <td>54</td>\n",
       "      <td>8</td>\n",
       "      <td>27.0</td>\n",
       "      <td>35.0</td>\n",
       "      <td>186.0</td>\n",
       "    </tr>\n",
       "    <tr>\n",
       "      <th>5</th>\n",
       "      <td>201604190947</td>\n",
       "      <td>201604190947_j_4</td>\n",
       "      <td>6</td>\n",
       "      <td>10</td>\n",
       "      <td>10</td>\n",
       "      <td>39</td>\n",
       "      <td>10</td>\n",
       "      <td>19.5</td>\n",
       "      <td>29.5</td>\n",
       "      <td>215.5</td>\n",
       "    </tr>\n",
       "    <tr>\n",
       "      <th>6</th>\n",
       "      <td>201604190947</td>\n",
       "      <td>201604190947_j_4</td>\n",
       "      <td>7</td>\n",
       "      <td>12</td>\n",
       "      <td>8</td>\n",
       "      <td>42</td>\n",
       "      <td>12</td>\n",
       "      <td>21.0</td>\n",
       "      <td>33.0</td>\n",
       "      <td>248.5</td>\n",
       "    </tr>\n",
       "    <tr>\n",
       "      <th>7</th>\n",
       "      <td>201604190947</td>\n",
       "      <td>201604190947_j_4</td>\n",
       "      <td>8</td>\n",
       "      <td>12</td>\n",
       "      <td>8</td>\n",
       "      <td>34</td>\n",
       "      <td>12</td>\n",
       "      <td>17.0</td>\n",
       "      <td>29.0</td>\n",
       "      <td>277.5</td>\n",
       "    </tr>\n",
       "    <tr>\n",
       "      <th>8</th>\n",
       "      <td>201604190947</td>\n",
       "      <td>201604190947_j_4</td>\n",
       "      <td>9</td>\n",
       "      <td>14</td>\n",
       "      <td>6</td>\n",
       "      <td>20</td>\n",
       "      <td>14</td>\n",
       "      <td>10.0</td>\n",
       "      <td>24.0</td>\n",
       "      <td>301.5</td>\n",
       "    </tr>\n",
       "    <tr>\n",
       "      <th>9</th>\n",
       "      <td>201604190947</td>\n",
       "      <td>201604190947_j_4</td>\n",
       "      <td>10</td>\n",
       "      <td>16</td>\n",
       "      <td>4</td>\n",
       "      <td>12</td>\n",
       "      <td>16</td>\n",
       "      <td>6.0</td>\n",
       "      <td>22.0</td>\n",
       "      <td>323.5</td>\n",
       "    </tr>\n",
       "  </tbody>\n",
       "</table>\n",
       "</div>"
      ],
      "text/plain": [
       "        session            joueur  PGGS_period  PGGS_indivaccount  \\\n",
       "0  201604190947  201604190947_j_4            1                 13   \n",
       "1  201604190947  201604190947_j_4            2                 12   \n",
       "2  201604190947  201604190947_j_4            3                 10   \n",
       "3  201604190947  201604190947_j_4            4                  9   \n",
       "4  201604190947  201604190947_j_4            5                  8   \n",
       "5  201604190947  201604190947_j_4            6                 10   \n",
       "6  201604190947  201604190947_j_4            7                 12   \n",
       "7  201604190947  201604190947_j_4            8                 12   \n",
       "8  201604190947  201604190947_j_4            9                 14   \n",
       "9  201604190947  201604190947_j_4           10                 16   \n",
       "\n",
       "   PGGS_groupaccount  PGGS_groupaccountsum  PGGS_indivaccountpayoff  \\\n",
       "0                  7                    43                       13   \n",
       "1                  8                    52                       12   \n",
       "2                 10                    58                       10   \n",
       "3                 11                    61                        9   \n",
       "4                 12                    54                        8   \n",
       "5                 10                    39                       10   \n",
       "6                  8                    42                       12   \n",
       "7                  8                    34                       12   \n",
       "8                  6                    20                       14   \n",
       "9                  4                    12                       16   \n",
       "\n",
       "   PGGS_groupaccountpayoff  PGGS_periodpayoff  PGGS_cumulativepayoff  \n",
       "0                     21.5               34.5                   34.5  \n",
       "1                     26.0               38.0                   72.5  \n",
       "2                     29.0               39.0                  111.5  \n",
       "3                     30.5               39.5                  151.0  \n",
       "4                     27.0               35.0                  186.0  \n",
       "5                     19.5               29.5                  215.5  \n",
       "6                     21.0               33.0                  248.5  \n",
       "7                     17.0               29.0                  277.5  \n",
       "8                     10.0               24.0                  301.5  \n",
       "9                      6.0               22.0                  323.5  "
      ]
     },
     "execution_count": 7,
     "metadata": {},
     "output_type": "execute_result"
    }
   ],
   "source": [
    "data = data[[\"session\", \"joueur\", \"PGGS_period\", \"PGGS_indivaccount\", \n",
    "      \"PGGS_groupaccount\", \"PGGS_groupaccountsum\", \n",
    "      \"PGGS_indivaccountpayoff\", \"PGGS_groupaccountpayoff\", \n",
    "      \"PGGS_periodpayoff\",  \"PGGS_cumulativepayoff\"]]\n",
    "data.head(n=10)"
   ]
  },
  {
   "cell_type": "markdown",
   "metadata": {
    "slideshow": {
     "slide_type": "subslide"
    }
   },
   "source": [
    "__Exemple de question de recherche__: à partir du traitement de référence, comment augmenter le niveau de contribution et limiter la dynamique décroissante?  \n",
    "<br />\n",
    "__Exemples de traitements alternatifs__\n",
    "- varier le rendement du compte collectif\n",
    "- mettre en place de la communication entre les joueurs\n",
    "- mettre en place un système de réputation\n",
    "- mettre en place un système de punition"
   ]
  },
  {
   "cell_type": "markdown",
   "metadata": {
    "slideshow": {
     "slide_type": "slide"
    }
   },
   "source": [
    "## Conclusion"
   ]
  },
  {
   "cell_type": "markdown",
   "metadata": {},
   "source": [
    "* impact important de l'économie expérimentale dans la discipline\n",
    "    * remise en cause de l'homo oeconomicus\n",
    "    * prise en compte des préférences sociales\n",
    "    * développement de l'économie comportementale  \n",
    "    <br />\n",
    "* favorise l'interdisciplinarité: psychologie, sociologie, neurosciences, biologie évolutive humaine"
   ]
  },
  {
   "cell_type": "markdown",
   "metadata": {
    "slideshow": {
     "slide_type": "subslide"
    }
   },
   "source": [
    "Plusieurs types d'expérience\n",
    "* expérience de laboratoire avec des étudiants\n",
    "* expérience de laboratoire avec des sujets du domaine d'étude (agriculteurs, traders ...)\n",
    "* expérience de terrain\n",
    "* expérience de terrain naturelle"
   ]
  }
 ],
 "metadata": {
  "celltoolbar": "Slideshow",
  "kernelspec": {
   "display_name": "Python 2",
   "language": "python",
   "name": "python2"
  },
  "language_info": {
   "codemirror_mode": {
    "name": "ipython",
    "version": 2
   },
   "file_extension": ".py",
   "mimetype": "text/x-python",
   "name": "python",
   "nbconvert_exporter": "python",
   "pygments_lexer": "ipython2",
   "version": "2.7.12"
  }
 },
 "nbformat": 4,
 "nbformat_minor": 1
}
